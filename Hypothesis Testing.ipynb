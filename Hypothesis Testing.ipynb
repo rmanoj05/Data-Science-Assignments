{
 "cells": [
  {
   "cell_type": "markdown",
   "id": "55f97fce",
   "metadata": {},
   "source": [
    "# Bombay hospitality Ltd. operates a franchise model for producing exotic Norwegian dinners throughout New England. The operating cost for a franchise in a week (W) is given by the equation W = $1,000 + $5X, where X represents the number of units produced in a week. Recent feedback from restaurant owners suggests that this cost model may no longer be accurate, as their observed weekly operating costs are higher."
   ]
  },
  {
   "cell_type": "markdown",
   "id": "afdbd6ca",
   "metadata": {},
   "source": [
    "# 1. State the Hypotheses statement:"
   ]
  },
  {
   "cell_type": "code",
   "execution_count": 1,
   "id": "ffdc3926",
   "metadata": {},
   "outputs": [],
   "source": [
    "# The hypothesis assignment is as follows\n",
    "#H0: μ= 3000 (Average weekly cost is 3000 dollars)\n",
    "#Hα :μ>3000"
   ]
  },
  {
   "cell_type": "markdown",
   "id": "de7eb892",
   "metadata": {},
   "source": [
    "# 2. Calculate the Test Statistic"
   ]
  },
  {
   "cell_type": "markdown",
   "id": "c111cafa",
   "metadata": {},
   "source": [
    "# Formula for test statistic x⎯⎯−μ/σ/n\n",
    "#ˉxˉ = sample mean weekly cost (Rs. 3,050)\n",
    "#μ = theoretical mean weekly cost according to the cost model (W = $1,000 + $5X for X = 600 units)\n",
    "#σ = 5*25 units\n",
    "#n = sample size (25 restaurants)\n"
   ]
  },
  {
   "cell_type": "code",
   "execution_count": 5,
   "id": "daddce88",
   "metadata": {},
   "outputs": [
    {
     "data": {
      "text/plain": [
       "2.0"
      ]
     },
     "execution_count": 5,
     "metadata": {},
     "output_type": "execute_result"
    }
   ],
   "source": [
    "test = (3050-3000)/(125/25**0.5)\n",
    "test "
   ]
  },
  {
   "cell_type": "markdown",
   "id": "dfb702bd",
   "metadata": {},
   "source": [
    "# 3. Determine the Critical Value:"
   ]
  },
  {
   "cell_type": "code",
   "execution_count": 6,
   "id": "1036bea6",
   "metadata": {},
   "outputs": [
    {
     "data": {
      "text/plain": [
       "1.6448536269514722"
      ]
     },
     "execution_count": 6,
     "metadata": {},
     "output_type": "execute_result"
    }
   ],
   "source": [
    "# Since this is right tailed test critical value is as below with 5% confidence\n",
    "import scipy.stats\n",
    "scipy.stats.norm.ppf(1-0.05) "
   ]
  },
  {
   "cell_type": "markdown",
   "id": "e20f342e",
   "metadata": {},
   "source": [
    "# Compare the test statistic with the critical value to decide whether to reject the null hypothesis.\n"
   ]
  },
  {
   "cell_type": "markdown",
   "id": "a7e167de",
   "metadata": {},
   "source": [
    "Since test value is greater than critical value we will be rejecting null hypothesis"
   ]
  },
  {
   "cell_type": "markdown",
   "id": "4539fb7c",
   "metadata": {},
   "source": [
    "# Based on the decision in step 4, conclude whether there is strong evidence to support the restaurant owners' claim that the weekly operating costs are higher than the model suggests."
   ]
  },
  {
   "cell_type": "markdown",
   "id": "56fd4de4",
   "metadata": {},
   "source": [
    "Since the null hypothesis is rejected the alternate hypothesis is accepted and thus the restaurant owners claim that weekly operating costs are higher than model suggests hold ture"
   ]
  },
  {
   "cell_type": "code",
   "execution_count": null,
   "id": "08754318",
   "metadata": {},
   "outputs": [],
   "source": []
  }
 ],
 "metadata": {
  "kernelspec": {
   "display_name": "Python 3 (ipykernel)",
   "language": "python",
   "name": "python3"
  },
  "language_info": {
   "codemirror_mode": {
    "name": "ipython",
    "version": 3
   },
   "file_extension": ".py",
   "mimetype": "text/x-python",
   "name": "python",
   "nbconvert_exporter": "python",
   "pygments_lexer": "ipython3",
   "version": "3.11.5"
  }
 },
 "nbformat": 4,
 "nbformat_minor": 5
}
