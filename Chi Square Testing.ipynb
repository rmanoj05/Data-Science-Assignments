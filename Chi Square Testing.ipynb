{
 "cells": [
  {
   "cell_type": "markdown",
   "id": "dde48d46",
   "metadata": {},
   "source": [
    "# Mizzare Corporation has collected data on customer satisfaction levels for two types of smart home devices: Smart Thermostats and Smart Lights. They want to determine if there's a significant association between the type of device purchased and the customer's satisfaction level."
   ]
  },
  {
   "cell_type": "markdown",
   "id": "1bfcde93",
   "metadata": {},
   "source": [
    "# 1. State the Hypotheses:"
   ]
  },
  {
   "cell_type": "raw",
   "id": "a5b91285",
   "metadata": {},
   "source": [
    "Null hypothesis: Type of device purchased and satisfaction level are independent\n",
    "Alternate hypothesis: Type of device purchased and satisfaction level are dependent "
   ]
  },
  {
   "cell_type": "markdown",
   "id": "d4d658ca",
   "metadata": {},
   "source": [
    "# 2. Compute the Chi-Square Statistic:"
   ]
  },
  {
   "cell_type": "code",
   "execution_count": 2,
   "id": "4fbb9402",
   "metadata": {},
   "outputs": [],
   "source": [
    "import numpy as np\n",
    "import pandas as pd\n",
    "import scipy.stats as st"
   ]
  },
  {
   "cell_type": "code",
   "execution_count": 1,
   "id": "568cd302",
   "metadata": {},
   "outputs": [],
   "source": [
    "data = [[50,70],[80,100],[60,90],[30,50],[20,50]]"
   ]
  },
  {
   "cell_type": "code",
   "execution_count": 4,
   "id": "2003884e",
   "metadata": {},
   "outputs": [],
   "source": [
    "stat, p, dof, expected = st.chi2_contingency(data)"
   ]
  },
  {
   "cell_type": "markdown",
   "id": "437f262c",
   "metadata": {},
   "source": [
    "# 3. Determine the Critical Value:"
   ]
  },
  {
   "cell_type": "code",
   "execution_count": 5,
   "id": "aef98085",
   "metadata": {},
   "outputs": [
    {
     "data": {
      "text/plain": [
       "5.638227513227513"
      ]
     },
     "execution_count": 5,
     "metadata": {},
     "output_type": "execute_result"
    }
   ],
   "source": [
    "# P-value \n",
    "stat"
   ]
  },
  {
   "cell_type": "code",
   "execution_count": 6,
   "id": "82405899",
   "metadata": {},
   "outputs": [
    {
     "data": {
      "text/plain": [
       "4"
      ]
     },
     "execution_count": 6,
     "metadata": {},
     "output_type": "execute_result"
    }
   ],
   "source": [
    "#Degrees of freedom\n",
    "dof"
   ]
  },
  {
   "cell_type": "markdown",
   "id": "227c64f3",
   "metadata": {},
   "source": [
    "# 4. Make a Decision:"
   ]
  },
  {
   "cell_type": "raw",
   "id": "cb1cca80",
   "metadata": {},
   "source": [
    "Since p-value is significantly higher than alpha(0.05) we will be accepting the null hypothesis. Hence there is no significant relationship between type of product and customer satisfaction level"
   ]
  },
  {
   "cell_type": "code",
   "execution_count": null,
   "id": "e8a61fe4",
   "metadata": {},
   "outputs": [],
   "source": []
  }
 ],
 "metadata": {
  "kernelspec": {
   "display_name": "Python 3 (ipykernel)",
   "language": "python",
   "name": "python3"
  },
  "language_info": {
   "codemirror_mode": {
    "name": "ipython",
    "version": 3
   },
   "file_extension": ".py",
   "mimetype": "text/x-python",
   "name": "python",
   "nbconvert_exporter": "python",
   "pygments_lexer": "ipython3",
   "version": "3.11.5"
  }
 },
 "nbformat": 4,
 "nbformat_minor": 5
}
