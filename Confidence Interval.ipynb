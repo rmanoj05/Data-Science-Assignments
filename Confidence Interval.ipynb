{
 "cells": [
  {
   "cell_type": "code",
   "execution_count": 1,
   "id": "3852e942",
   "metadata": {},
   "outputs": [],
   "source": [
    "import numpy as np\n",
    "import pandas as pd\n",
    "import matplotlib.pyplot as plt"
   ]
  },
  {
   "cell_type": "code",
   "execution_count": 2,
   "id": "dd268fa7",
   "metadata": {},
   "outputs": [],
   "source": [
    "sample = [1.13, 1.55, 1.43, 0.92, 1.25, 1.36, 1.32, 0.85, 1.07, 1.48, 1.20, 1.33, 1.18, 1.22, 1.29]"
   ]
  },
  {
   "cell_type": "code",
   "execution_count": 4,
   "id": "7883d551",
   "metadata": {},
   "outputs": [],
   "source": [
    "spl = np.array(sample)"
   ]
  },
  {
   "cell_type": "code",
   "execution_count": 7,
   "id": "8ad61525",
   "metadata": {},
   "outputs": [
    {
     "data": {
      "text/plain": [
       "15"
      ]
     },
     "execution_count": 7,
     "metadata": {},
     "output_type": "execute_result"
    }
   ],
   "source": [
    "np.size(spl)"
   ]
  },
  {
   "cell_type": "markdown",
   "id": "4e1db5c0",
   "metadata": {},
   "source": [
    "# a. Build 99% Confidence Interval Using Sample Standard Deviation"
   ]
  },
  {
   "cell_type": "code",
   "execution_count": 5,
   "id": "c20e52f3",
   "metadata": {},
   "outputs": [],
   "source": [
    "# Since the sample size is very small and the standard deviation is unknown we will construct interval using T-Distribution"
   ]
  },
  {
   "cell_type": "code",
   "execution_count": 6,
   "id": "fe407b5d",
   "metadata": {},
   "outputs": [],
   "source": [
    "import scipy.stats as st"
   ]
  },
  {
   "cell_type": "code",
   "execution_count": 28,
   "id": "22c3564e",
   "metadata": {},
   "outputs": [
    {
     "data": {
      "text/plain": [
       "(1.090197338451367, 1.3871359948819662)"
      ]
     },
     "execution_count": 28,
     "metadata": {},
     "output_type": "execute_result"
    }
   ],
   "source": [
    "# Confidence interval \n",
    "st.t.interval(0.99,np.size(spl)-1,loc=np.mean(spl),scale =st.sem(spl))\n"
   ]
  },
  {
   "cell_type": "markdown",
   "id": "5681efc9",
   "metadata": {},
   "source": [
    "# b. Build 99% Confidence Interval Using Known Population Standard Deviation"
   ]
  },
  {
   "cell_type": "code",
   "execution_count": 29,
   "id": "015f3c0a",
   "metadata": {},
   "outputs": [
    {
     "data": {
      "text/plain": [
       "2.5758293035489004"
      ]
     },
     "execution_count": 29,
     "metadata": {},
     "output_type": "execute_result"
    }
   ],
   "source": [
    "# calculating z score \n",
    "z = st.norm.ppf((1 + 0.99) / 2) \n",
    "z"
   ]
  },
  {
   "cell_type": "code",
   "execution_count": 18,
   "id": "3c389937",
   "metadata": {},
   "outputs": [
    {
     "data": {
      "text/plain": [
       "0.0022896260475990227"
      ]
     },
     "execution_count": 18,
     "metadata": {},
     "output_type": "execute_result"
    }
   ],
   "source": [
    "#Margin of error\n",
    "moe = z*(0.2/15**2)\n",
    "moe"
   ]
  },
  {
   "cell_type": "code",
   "execution_count": 20,
   "id": "af7462d7",
   "metadata": {},
   "outputs": [
    {
     "data": {
      "text/plain": [
       "1.2363770406190675"
      ]
     },
     "execution_count": 20,
     "metadata": {},
     "output_type": "execute_result"
    }
   ],
   "source": [
    "#Lower bound\n",
    "np.mean(spl)-moe"
   ]
  },
  {
   "cell_type": "code",
   "execution_count": 21,
   "id": "a25f46bd",
   "metadata": {},
   "outputs": [
    {
     "data": {
      "text/plain": [
       "1.2409562927142657"
      ]
     },
     "execution_count": 21,
     "metadata": {},
     "output_type": "execute_result"
    }
   ],
   "source": [
    "# Upper bound\n",
    "np.mean(spl)+moe"
   ]
  },
  {
   "cell_type": "code",
   "execution_count": 22,
   "id": "ddb40a9a",
   "metadata": {},
   "outputs": [],
   "source": [
    "#Confidence interval is (1.2363770406190675,1.2409562927142657)"
   ]
  },
  {
   "cell_type": "code",
   "execution_count": null,
   "id": "7ad7db8b",
   "metadata": {},
   "outputs": [],
   "source": []
  }
 ],
 "metadata": {
  "kernelspec": {
   "display_name": "Python 3 (ipykernel)",
   "language": "python",
   "name": "python3"
  },
  "language_info": {
   "codemirror_mode": {
    "name": "ipython",
    "version": 3
   },
   "file_extension": ".py",
   "mimetype": "text/x-python",
   "name": "python",
   "nbconvert_exporter": "python",
   "pygments_lexer": "ipython3",
   "version": "3.11.5"
  }
 },
 "nbformat": 4,
 "nbformat_minor": 5
}
