{
 "cells": [
  {
   "cell_type": "markdown",
   "id": "bd569f44",
   "metadata": {},
   "source": [
    "# Write a Python program that checks whether a given number is prime or not. A prime number is a natural number greater than 1 that has no positive divisors other than 1 and itself."
   ]
  },
  {
   "cell_type": "code",
   "execution_count": 14,
   "id": "8dcdb3e0",
   "metadata": {},
   "outputs": [
    {
     "name": "stdout",
     "output_type": "stream",
     "text": [
      "Enter a number:654\n",
      "Number is not a prime number\n"
     ]
    }
   ],
   "source": [
    "num = int(input(\"Enter a number:\"))\n",
    "if num==1: # 1 is neither prime nor composite\n",
    "    print(\"Number is not a prime number\")\n",
    "for i in range(2,num): # checking for factors\n",
    "    if(num%i==0):\n",
    "        print(\"Number is not a prime number\")\n",
    "        break\n",
    "else:\n",
    "    print(\"Number is a prime number\")"
   ]
  },
  {
   "cell_type": "markdown",
   "id": "b6250ab1",
   "metadata": {},
   "source": [
    "# Develop a Python program that generates two random numbers and asks the user to enter the product of these numbers. The program should then check if the user's answer is correct and display an appropriate message."
   ]
  },
  {
   "cell_type": "code",
   "execution_count": 15,
   "id": "cac43600",
   "metadata": {},
   "outputs": [
    {
     "name": "stdout",
     "output_type": "stream",
     "text": [
      "Two random number are: 35 75\n",
      "Enter the product of the above random numbers5\n",
      "The answer is incorrect\n"
     ]
    }
   ],
   "source": [
    "import random\n",
    "num1 = random.randint(1,100)\n",
    "num2 = random.randint(1,100)\n",
    "print(\"Two random number are:\",num1,num2) # Random numbers generated\n",
    "pro = int(input(\"Enter the product of the above random numbers\")) #User enters the product \n",
    "if pro==(num1*num2): # Product is then checked\n",
    "    print(\"The Answer is correct\")\n",
    "else:\n",
    "    print(\"The answer is incorrect\")"
   ]
  },
  {
   "cell_type": "markdown",
   "id": "5e3fe952",
   "metadata": {},
   "source": [
    "# Create a Python script that prints the squares of all even or odd numbers within the range of 100 to 200. Choose either even or odd numbers and document your choice in the code."
   ]
  },
  {
   "cell_type": "code",
   "execution_count": 19,
   "id": "6c1ccb2d",
   "metadata": {},
   "outputs": [
    {
     "name": "stdout",
     "output_type": "stream",
     "text": [
      "Squares of all Even numbers are:\n",
      "10000\n",
      "10404\n",
      "10816\n",
      "11236\n",
      "11664\n",
      "12100\n",
      "12544\n",
      "12996\n",
      "13456\n",
      "13924\n",
      "14400\n",
      "14884\n",
      "15376\n",
      "15876\n",
      "16384\n",
      "16900\n",
      "17424\n",
      "17956\n",
      "18496\n",
      "19044\n",
      "19600\n",
      "20164\n",
      "20736\n",
      "21316\n",
      "21904\n",
      "22500\n",
      "23104\n",
      "23716\n",
      "24336\n",
      "24964\n",
      "25600\n",
      "26244\n",
      "26896\n",
      "27556\n",
      "28224\n",
      "28900\n",
      "29584\n",
      "30276\n",
      "30976\n",
      "31684\n",
      "32400\n",
      "33124\n",
      "33856\n",
      "34596\n",
      "35344\n",
      "36100\n",
      "36864\n",
      "37636\n",
      "38416\n",
      "39204\n"
     ]
    }
   ],
   "source": [
    "print(\"Squares of all Even numbers are:\") # Printing squares of all even numbers \n",
    "for i in range(100,200,2):# numbers in the range of 100 to 200 with step size as 2\n",
    "    print(int(i**2))# number is squared"
   ]
  },
  {
   "cell_type": "markdown",
   "id": "ba5e46b8",
   "metadata": {},
   "source": [
    "# write a program to count the number of words in a given text"
   ]
  },
  {
   "cell_type": "code",
   "execution_count": 23,
   "id": "91da8153",
   "metadata": {},
   "outputs": [
    {
     "name": "stdout",
     "output_type": "stream",
     "text": [
      "Enter any sentenceThis is a sample text. This text will be used to demonstrate the word counter.\n",
      "Count of words in the sentence\n",
      "{'This': 2, 'is': 1, 'a': 1, 'sample': 1, 'text.': 1, 'text': 1, 'will': 1, 'be': 1, 'used': 1, 'to': 1, 'demonstrate': 1, 'the': 1, 'word': 1, 'counter.': 1}\n"
     ]
    }
   ],
   "source": [
    "input_text = input(str(\"Enter any sentence\")) # User input\n",
    "ls = input_text.split()# Splitting the input\n",
    "count = dict() #Dictionary to keep track of count of each word\n",
    "for l in ls:\n",
    "    if l in count:\n",
    "        count[l]+=1 #value of a word is increased if it is morethan once\n",
    "    else:\n",
    "        count[l]=1 # Value is 1 if it occurs only once\n",
    "        \n",
    "print(\"Count of words in the sentence\")\n",
    "print(count)"
   ]
  },
  {
   "cell_type": "markdown",
   "id": "e4d0e8d0",
   "metadata": {},
   "source": [
    "# Write a Python function called is_palindrome that takes a string as input and returns True if the string is a palindrome, and False otherwise. A palindrome is a word, phrase, number, or other sequence of characters that reads the same forward and backward, ignoring spaces, punctuation, and capitalization."
   ]
  },
  {
   "cell_type": "code",
   "execution_count": 28,
   "id": "40f581e2",
   "metadata": {},
   "outputs": [
    {
     "name": "stdout",
     "output_type": "stream",
     "text": [
      "Enter a stringmanoj\n"
     ]
    },
    {
     "data": {
      "text/plain": [
       "False"
      ]
     },
     "execution_count": 28,
     "metadata": {},
     "output_type": "execute_result"
    }
   ],
   "source": [
    "def is_palindrome(a:str): # function defined to check palindrome\n",
    "    if a[::-1]==a: # Reversing the string using slicing and then comparing with original string\n",
    "        return True\n",
    "    else:\n",
    "        return False\n",
    "\n",
    "string = str(input(\"Enter a string\")) # user input\n",
    "is_palindrome(string) # calling function \n"
   ]
  },
  {
   "cell_type": "code",
   "execution_count": null,
   "id": "abf21849",
   "metadata": {},
   "outputs": [],
   "source": []
  },
  {
   "cell_type": "code",
   "execution_count": null,
   "id": "b4f8be7a",
   "metadata": {},
   "outputs": [],
   "source": []
  }
 ],
 "metadata": {
  "kernelspec": {
   "display_name": "Python 3 (ipykernel)",
   "language": "python",
   "name": "python3"
  },
  "language_info": {
   "codemirror_mode": {
    "name": "ipython",
    "version": 3
   },
   "file_extension": ".py",
   "mimetype": "text/x-python",
   "name": "python",
   "nbconvert_exporter": "python",
   "pygments_lexer": "ipython3",
   "version": "3.11.5"
  }
 },
 "nbformat": 4,
 "nbformat_minor": 5
}
